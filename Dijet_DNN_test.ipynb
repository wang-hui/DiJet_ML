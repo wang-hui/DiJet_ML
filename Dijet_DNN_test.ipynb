{
 "cells": [
  {
   "cell_type": "code",
   "execution_count": 1,
   "metadata": {},
   "outputs": [
    {
     "name": "stderr",
     "output_type": "stream",
     "text": [
      "2023-04-05 16:43:38.866415: I tensorflow/core/platform/cpu_feature_guard.cc:193] This TensorFlow binary is optimized with oneAPI Deep Neural Network Library (oneDNN) to use the following CPU instructions in performance-critical operations:  AVX2 AVX512F FMA\n",
      "To enable them in other operations, rebuild TensorFlow with the appropriate compiler flags.\n",
      "2023-04-05 16:43:39.091028: E tensorflow/stream_executor/cuda/cuda_blas.cc:2981] Unable to register cuBLAS factory: Attempting to register factory for plugin cuBLAS when one has already been registered\n"
     ]
    },
    {
     "name": "stdout",
     "output_type": "stream",
     "text": [
      "2.10.0\n",
      "True\n"
     ]
    }
   ],
   "source": [
    "import matplotlib.pyplot as plt\n",
    "\n",
    "import numpy as np\n",
    "import pandas as pd\n",
    "#pd.set_option('display.max_rows', 200)\n",
    "#pd.set_option(\"display.max_columns\", 999)\n",
    "\n",
    "import os\n",
    "from multiprocessing import Pool\n",
    "import psutil\n",
    "\n",
    "import tensorflow as tf\n",
    "print(tf.__version__)\n",
    "print(tf.test.is_built_with_cuda())"
   ]
  },
  {
   "cell_type": "code",
   "execution_count": 2,
   "metadata": {},
   "outputs": [],
   "source": [
    "def read_training_files(FileName):\n",
    "    print(\"Training file: \" + FileName + \"\\n\")\n",
    "    return pd.read_csv(FileName, header=0, skipinitialspace=True, nrows=100000)"
   ]
  },
  {
   "cell_type": "code",
   "execution_count": 3,
   "metadata": {},
   "outputs": [],
   "source": [
    "def read_testing_files(FileName):\n",
    "    print(\"Testing file: \" + FileName + \"\\n\")\n",
    "    return pd.read_csv(FileName, header=0, skipinitialspace=True, skiprows=range(1,100000), nrows=50000)"
   ]
  },
  {
   "cell_type": "code",
   "execution_count": 4,
   "metadata": {},
   "outputs": [],
   "source": [
    "Masses = [500, 600, 700, 800, 900, 1000]\n",
    "Files = [\"tree_ML_MCRun2_\" + str(Mass) + \"GeV.csv\" for Mass in Masses]"
   ]
  },
  {
   "cell_type": "code",
   "execution_count": 5,
   "metadata": {},
   "outputs": [
    {
     "name": "stdout",
     "output_type": "stream",
     "text": [
      "Training file: tree_ML_MCRun2_500GeV.csv\n",
      "Training file: tree_ML_MCRun2_600GeV.csv\n",
      "Training file: tree_ML_MCRun2_800GeV.csv\n",
      "\n",
      "Training file: tree_ML_MCRun2_1000GeV.csv\n",
      "Training file: tree_ML_MCRun2_700GeV.csv\n",
      "\n",
      "\n",
      "Training file: tree_ML_MCRun2_900GeV.csv\n",
      "\n",
      "\n",
      "\n",
      "Testing file: tree_ML_MCRun2_500GeV.csv\n",
      "Testing file: tree_ML_MCRun2_800GeV.csv\n",
      "Testing file: tree_ML_MCRun2_700GeV.csv\n",
      "Testing file: tree_ML_MCRun2_900GeV.csv\n",
      "Testing file: tree_ML_MCRun2_1000GeV.csv\n",
      "Testing file: tree_ML_MCRun2_600GeV.csv\n",
      "\n",
      "\n",
      "\n",
      "\n",
      "\n",
      "\n",
      "Total file size: 0.14248074032366276GB\n",
      "Memory used: 0.09020233154296875GB\n"
     ]
    }
   ],
   "source": [
    "FileSize = 0\n",
    "for File in Files:\n",
    "    FileSize += os.path.getsize(File)\n",
    "    \n",
    "Mem0 = psutil.virtual_memory().available\n",
    "\n",
    "TrainingDF = None\n",
    "TestingDF = None\n",
    "with Pool(processes=6) as pool:\n",
    "    TrainingDF = pd.concat(pool.map(read_training_files, Files))\n",
    "    TestingDF = pd.concat(pool.map(read_testing_files, Files))\n",
    "\n",
    "Mem1 = psutil.virtual_memory().available\n",
    "print(\"Total file size: \" + str(FileSize/(1024**3)) + \"GB\")\n",
    "print(\"Memory used: \" + str((Mem0 - Mem1)/(1024**3)) + \"GB\")"
   ]
  },
  {
   "cell_type": "code",
   "execution_count": 6,
   "metadata": {},
   "outputs": [
    {
     "data": {
      "text/html": [
       "<div>\n",
       "<style scoped>\n",
       "    .dataframe tbody tr th:only-of-type {\n",
       "        vertical-align: middle;\n",
       "    }\n",
       "\n",
       "    .dataframe tbody tr th {\n",
       "        vertical-align: top;\n",
       "    }\n",
       "\n",
       "    .dataframe thead th {\n",
       "        text-align: right;\n",
       "    }\n",
       "</style>\n",
       "<table border=\"1\" class=\"dataframe\">\n",
       "  <thead>\n",
       "    <tr style=\"text-align: right;\">\n",
       "      <th></th>\n",
       "      <th>M4</th>\n",
       "      <th>R1</th>\n",
       "      <th>R2</th>\n",
       "      <th>R3</th>\n",
       "      <th>Truth</th>\n",
       "      <th>Mass</th>\n",
       "    </tr>\n",
       "  </thead>\n",
       "  <tbody>\n",
       "    <tr>\n",
       "      <th>0</th>\n",
       "      <td>1.615654</td>\n",
       "      <td>0.596896</td>\n",
       "      <td>0.527062</td>\n",
       "      <td>0.299362</td>\n",
       "      <td>2</td>\n",
       "      <td>500</td>\n",
       "    </tr>\n",
       "    <tr>\n",
       "      <th>1</th>\n",
       "      <td>2.238177</td>\n",
       "      <td>0.702622</td>\n",
       "      <td>0.460715</td>\n",
       "      <td>0.456434</td>\n",
       "      <td>2</td>\n",
       "      <td>500</td>\n",
       "    </tr>\n",
       "    <tr>\n",
       "      <th>2</th>\n",
       "      <td>1.484222</td>\n",
       "      <td>0.685523</td>\n",
       "      <td>0.526373</td>\n",
       "      <td>0.391565</td>\n",
       "      <td>2</td>\n",
       "      <td>500</td>\n",
       "    </tr>\n",
       "    <tr>\n",
       "      <th>3</th>\n",
       "      <td>2.021423</td>\n",
       "      <td>0.657197</td>\n",
       "      <td>0.486695</td>\n",
       "      <td>0.410394</td>\n",
       "      <td>2</td>\n",
       "      <td>500</td>\n",
       "    </tr>\n",
       "    <tr>\n",
       "      <th>4</th>\n",
       "      <td>1.884465</td>\n",
       "      <td>0.650958</td>\n",
       "      <td>0.516887</td>\n",
       "      <td>0.294112</td>\n",
       "      <td>2</td>\n",
       "      <td>500</td>\n",
       "    </tr>\n",
       "    <tr>\n",
       "      <th>...</th>\n",
       "      <td>...</td>\n",
       "      <td>...</td>\n",
       "      <td>...</td>\n",
       "      <td>...</td>\n",
       "      <td>...</td>\n",
       "      <td>...</td>\n",
       "    </tr>\n",
       "    <tr>\n",
       "      <th>99995</th>\n",
       "      <td>1.883865</td>\n",
       "      <td>0.534234</td>\n",
       "      <td>0.460678</td>\n",
       "      <td>0.422482</td>\n",
       "      <td>0</td>\n",
       "      <td>1000</td>\n",
       "    </tr>\n",
       "    <tr>\n",
       "      <th>99996</th>\n",
       "      <td>3.038430</td>\n",
       "      <td>0.600369</td>\n",
       "      <td>0.408263</td>\n",
       "      <td>0.343466</td>\n",
       "      <td>2</td>\n",
       "      <td>1000</td>\n",
       "    </tr>\n",
       "    <tr>\n",
       "      <th>99997</th>\n",
       "      <td>2.490334</td>\n",
       "      <td>0.684008</td>\n",
       "      <td>0.436359</td>\n",
       "      <td>0.414619</td>\n",
       "      <td>2</td>\n",
       "      <td>1000</td>\n",
       "    </tr>\n",
       "    <tr>\n",
       "      <th>99998</th>\n",
       "      <td>2.262540</td>\n",
       "      <td>0.516382</td>\n",
       "      <td>0.450869</td>\n",
       "      <td>0.436098</td>\n",
       "      <td>2</td>\n",
       "      <td>1000</td>\n",
       "    </tr>\n",
       "    <tr>\n",
       "      <th>99999</th>\n",
       "      <td>2.086804</td>\n",
       "      <td>0.509904</td>\n",
       "      <td>0.473333</td>\n",
       "      <td>0.455745</td>\n",
       "      <td>1</td>\n",
       "      <td>1000</td>\n",
       "    </tr>\n",
       "  </tbody>\n",
       "</table>\n",
       "<p>600000 rows × 6 columns</p>\n",
       "</div>"
      ],
      "text/plain": [
       "             M4        R1        R2        R3  Truth  Mass\n",
       "0      1.615654  0.596896  0.527062  0.299362      2   500\n",
       "1      2.238177  0.702622  0.460715  0.456434      2   500\n",
       "2      1.484222  0.685523  0.526373  0.391565      2   500\n",
       "3      2.021423  0.657197  0.486695  0.410394      2   500\n",
       "4      1.884465  0.650958  0.516887  0.294112      2   500\n",
       "...         ...       ...       ...       ...    ...   ...\n",
       "99995  1.883865  0.534234  0.460678  0.422482      0  1000\n",
       "99996  3.038430  0.600369  0.408263  0.343466      2  1000\n",
       "99997  2.490334  0.684008  0.436359  0.414619      2  1000\n",
       "99998  2.262540  0.516382  0.450869  0.436098      2  1000\n",
       "99999  2.086804  0.509904  0.473333  0.455745      1  1000\n",
       "\n",
       "[600000 rows x 6 columns]"
      ]
     },
     "execution_count": 6,
     "metadata": {},
     "output_type": "execute_result"
    }
   ],
   "source": [
    "TrainingDF"
   ]
  },
  {
   "cell_type": "code",
   "execution_count": 7,
   "metadata": {},
   "outputs": [
    {
     "data": {
      "text/plain": [
       "M4       float64\n",
       "R1       float64\n",
       "R2       float64\n",
       "R3       float64\n",
       "Truth      int64\n",
       "Mass       int64\n",
       "dtype: object"
      ]
     },
     "execution_count": 7,
     "metadata": {},
     "output_type": "execute_result"
    }
   ],
   "source": [
    "TrainingDF.dtypes"
   ]
  },
  {
   "cell_type": "code",
   "execution_count": 8,
   "metadata": {},
   "outputs": [
    {
     "data": {
      "text/plain": [
       "(array([100000.,      0., 100000.,      0., 100000.,      0., 100000.,\n",
       "             0., 100000., 100000.]),\n",
       " array([ 500.,  550.,  600.,  650.,  700.,  750.,  800.,  850.,  900.,\n",
       "         950., 1000.]),\n",
       " <BarContainer object of 10 artists>)"
      ]
     },
     "execution_count": 8,
     "metadata": {},
     "output_type": "execute_result"
    },
    {
     "data": {
      "image/png": "[encoded data removed]",
      "text/plain": [
       "<Figure size 640x480 with 1 Axes>"
      ]
     },
     "metadata": {},
     "output_type": "display_data"
    }
   ],
   "source": [
    "plt.hist(TrainingDF[\"Mass\"])"
   ]
  },
  {
   "cell_type": "code",
   "execution_count": 9,
   "metadata": {},
   "outputs": [
    {
     "data": {
      "text/plain": [
       "(array([50000.,     0., 50000.,     0., 50000.,     0., 50000.,     0.,\n",
       "        50000., 50000.]),\n",
       " array([ 500.,  550.,  600.,  650.,  700.,  750.,  800.,  850.,  900.,\n",
       "         950., 1000.]),\n",
       " <BarContainer object of 10 artists>)"
      ]
     },
     "execution_count": 9,
     "metadata": {},
     "output_type": "execute_result"
    },
    {
     "data": {
      "image/png": "[encoded data removed]",
      "text/plain": [
       "<Figure size 640x480 with 1 Axes>"
      ]
     },
     "metadata": {},
     "output_type": "display_data"
    }
   ],
   "source": [
    "plt.hist(TestingDF[\"Mass\"])"
   ]
  },
  {
   "cell_type": "code",
   "execution_count": 10,
   "metadata": {},
   "outputs": [],
   "source": [
    "TrainingInputs = TrainingDF[['M4', 'R1', 'R2', 'R3']].to_numpy()\n",
    "TrainingTruth = TrainingDF[\"Truth\"].to_numpy()\n",
    "\n",
    "TestingInputs = TestingDF[['M4', 'R1', 'R2', 'R3']].to_numpy()"
   ]
  },
  {
   "cell_type": "code",
   "execution_count": 11,
   "metadata": {},
   "outputs": [
    {
     "name": "stdout",
     "output_type": "stream",
     "text": [
      "(600000, 4)\n",
      "(600000,)\n",
      "(300000, 4)\n"
     ]
    }
   ],
   "source": [
    "print(TrainingInputs.shape)\n",
    "print(TrainingTruth.shape)\n",
    "print(TestingInputs.shape)"
   ]
  },
  {
   "cell_type": "code",
   "execution_count": 12,
   "metadata": {},
   "outputs": [],
   "source": [
    "def model_DNN_lite():\n",
    "    Model = tf.keras.Sequential([\n",
    "        tf.keras.layers.Dense(32, activation='relu'),\n",
    "        tf.keras.layers.Dense(16, activation='relu'),\n",
    "        tf.keras.layers.Dense(8, activation='relu'),\n",
    "        tf.keras.layers.Dense(3, activation='softmax')],\n",
    "        name = \"ModelDNNLite\"\n",
    "    )\n",
    "    Model.compile(optimizer='adam',\n",
    "              loss=tf.keras.losses.SparseCategoricalCrossentropy(),\n",
    "              metrics=['accuracy'])\n",
    "    return Model"
   ]
  },
  {
   "cell_type": "code",
   "execution_count": 13,
   "metadata": {},
   "outputs": [],
   "source": [
    "def model_DNN():\n",
    "    Model = tf.keras.Sequential([\n",
    "        tf.keras.layers.Dense(128, activation='relu'),\n",
    "        tf.keras.layers.Dense(32, activation='relu'),\n",
    "        tf.keras.layers.Dense(8, activation='relu'),\n",
    "        tf.keras.layers.Dense(3, activation='softmax')],\n",
    "        name = \"ModelDNN\"\n",
    "    )\n",
    "    Model.compile(optimizer='adam',\n",
    "              loss=tf.keras.losses.SparseCategoricalCrossentropy(),\n",
    "              metrics=['accuracy'])\n",
    "    return Model"
   ]
  },
  {
   "cell_type": "code",
   "execution_count": 14,
   "metadata": {},
   "outputs": [
    {
     "name": "stderr",
     "output_type": "stream",
     "text": [
      "2023-04-05 16:43:42.881550: I tensorflow/core/platform/cpu_feature_guard.cc:193] This TensorFlow binary is optimized with oneAPI Deep Neural Network Library (oneDNN) to use the following CPU instructions in performance-critical operations:  AVX2 AVX512F FMA\n",
      "To enable them in other operations, rebuild TensorFlow with the appropriate compiler flags.\n",
      "2023-04-05 16:43:43.637405: I tensorflow/core/common_runtime/gpu/gpu_device.cc:1616] Created device /job:localhost/replica:0/task:0/device:GPU:0 with 6647 MB memory:  -> device: 0, name: Tesla P100-PCIE-12GB, pci bus id: 0000:65:00.0, compute capability: 6.0\n"
     ]
    }
   ],
   "source": [
    "Model = model_DNN_lite()\n",
    "#Model = model_DNN()"
   ]
  },
  {
   "cell_type": "code",
   "execution_count": 15,
   "metadata": {},
   "outputs": [
    {
     "name": "stdout",
     "output_type": "stream",
     "text": [
      "Epoch 1/20\n",
      "469/469 [==============================] - 3s 4ms/step - loss: 0.8218 - accuracy: 0.5850 - val_loss: 1.2707 - val_accuracy: 0.4000\n",
      "Epoch 2/20\n",
      "469/469 [==============================] - 2s 4ms/step - loss: 0.7320 - accuracy: 0.6293 - val_loss: 1.2891 - val_accuracy: 0.4077\n",
      "Epoch 3/20\n",
      "469/469 [==============================] - 2s 4ms/step - loss: 0.6957 - accuracy: 0.6453 - val_loss: 1.2518 - val_accuracy: 0.4201\n",
      "Epoch 4/20\n",
      "469/469 [==============================] - 2s 4ms/step - loss: 0.6829 - accuracy: 0.6519 - val_loss: 1.3226 - val_accuracy: 0.4289\n",
      "Epoch 5/20\n",
      "469/469 [==============================] - 2s 4ms/step - loss: 0.6783 - accuracy: 0.6536 - val_loss: 1.3674 - val_accuracy: 0.4281\n",
      "Epoch 6/20\n",
      "469/469 [==============================] - 2s 4ms/step - loss: 0.6760 - accuracy: 0.6536 - val_loss: 1.3684 - val_accuracy: 0.4291\n",
      "Epoch 7/20\n",
      "469/469 [==============================] - 2s 4ms/step - loss: 0.6734 - accuracy: 0.6535 - val_loss: 1.3916 - val_accuracy: 0.4313\n",
      "Epoch 8/20\n",
      "469/469 [==============================] - 2s 4ms/step - loss: 0.6702 - accuracy: 0.6544 - val_loss: 1.2609 - val_accuracy: 0.4397\n",
      "Epoch 9/20\n",
      "469/469 [==============================] - 2s 4ms/step - loss: 0.6682 - accuracy: 0.6549 - val_loss: 1.5868 - val_accuracy: 0.4156\n",
      "Epoch 10/20\n",
      "469/469 [==============================] - 2s 4ms/step - loss: 0.6658 - accuracy: 0.6557 - val_loss: 1.4024 - val_accuracy: 0.4330\n",
      "Epoch 11/20\n",
      "469/469 [==============================] - 2s 4ms/step - loss: 0.6643 - accuracy: 0.6566 - val_loss: 1.3506 - val_accuracy: 0.4296\n",
      "Epoch 12/20\n",
      "469/469 [==============================] - 2s 4ms/step - loss: 0.6623 - accuracy: 0.6574 - val_loss: 1.5425 - val_accuracy: 0.4240\n",
      "Epoch 13/20\n",
      "469/469 [==============================] - 2s 4ms/step - loss: 0.6611 - accuracy: 0.6582 - val_loss: 1.3641 - val_accuracy: 0.4427\n",
      "Epoch 14/20\n",
      "469/469 [==============================] - 2s 4ms/step - loss: 0.6599 - accuracy: 0.6581 - val_loss: 1.5189 - val_accuracy: 0.4296\n",
      "Epoch 15/20\n",
      "469/469 [==============================] - 2s 4ms/step - loss: 0.6594 - accuracy: 0.6586 - val_loss: 1.4816 - val_accuracy: 0.4303\n",
      "Epoch 16/20\n",
      "469/469 [==============================] - 2s 4ms/step - loss: 0.6586 - accuracy: 0.6590 - val_loss: 1.4809 - val_accuracy: 0.4355\n",
      "Epoch 17/20\n",
      "469/469 [==============================] - 2s 4ms/step - loss: 0.6580 - accuracy: 0.6588 - val_loss: 1.6118 - val_accuracy: 0.4310\n",
      "Epoch 18/20\n",
      "469/469 [==============================] - 2s 4ms/step - loss: 0.6573 - accuracy: 0.6593 - val_loss: 1.3593 - val_accuracy: 0.4571\n",
      "Epoch 19/20\n",
      "469/469 [==============================] - 2s 4ms/step - loss: 0.6565 - accuracy: 0.6592 - val_loss: 1.6643 - val_accuracy: 0.4310\n",
      "Epoch 20/20\n",
      "469/469 [==============================] - 2s 4ms/step - loss: 0.6558 - accuracy: 0.6603 - val_loss: 1.4032 - val_accuracy: 0.4651\n"
     ]
    },
    {
     "data": {
      "text/plain": [
       "<keras.callbacks.History at 0x7f903b4d7d00>"
      ]
     },
     "execution_count": 15,
     "metadata": {},
     "output_type": "execute_result"
    }
   ],
   "source": [
    "Model.fit(TrainingInputs, TrainingTruth, batch_size = 1024,\n",
    "          epochs = 20, validation_split = 0.2)"
   ]
  },
  {
   "cell_type": "code",
   "execution_count": 16,
   "metadata": {},
   "outputs": [
    {
     "name": "stdout",
     "output_type": "stream",
     "text": [
      "Model: \"ModelDNNLite\"\n",
      "_________________________________________________________________\n",
      " Layer (type)                Output Shape              Param #   \n",
      "=================================================================\n",
      " dense (Dense)               (None, 32)                160       \n",
      "                                                                 \n",
      " dense_1 (Dense)             (None, 16)                528       \n",
      "                                                                 \n",
      " dense_2 (Dense)             (None, 8)                 136       \n",
      "                                                                 \n",
      " dense_3 (Dense)             (None, 3)                 27        \n",
      "                                                                 \n",
      "=================================================================\n",
      "Total params: 851\n",
      "Trainable params: 851\n",
      "Non-trainable params: 0\n",
      "_________________________________________________________________\n"
     ]
    }
   ],
   "source": [
    "Model.summary()"
   ]
  },
  {
   "cell_type": "code",
   "execution_count": 17,
   "metadata": {},
   "outputs": [
    {
     "name": "stdout",
     "output_type": "stream",
     "text": [
      "293/293 [==============================] - 0s 1ms/step\n"
     ]
    }
   ],
   "source": [
    "TestingOutputs = Model.predict(TestingInputs, batch_size = 1024)"
   ]
  },
  {
   "cell_type": "code",
   "execution_count": 18,
   "metadata": {},
   "outputs": [
    {
     "data": {
      "text/plain": [
       "array([0.05633852, 0.9325886 , 0.01107292], dtype=float32)"
      ]
     },
     "execution_count": 18,
     "metadata": {},
     "output_type": "execute_result"
    }
   ],
   "source": [
    "TestingOutputs[0]"
   ]
  },
  {
   "cell_type": "code",
   "execution_count": 19,
   "metadata": {},
   "outputs": [],
   "source": [
    "TestingPredictions = np.argmax(TestingOutputs, axis = 1)"
   ]
  },
  {
   "cell_type": "code",
   "execution_count": 20,
   "metadata": {},
   "outputs": [
    {
     "name": "stdout",
     "output_type": "stream",
     "text": [
      "(300000,)\n",
      "1\n"
     ]
    }
   ],
   "source": [
    "print(TestingPredictions.shape)\n",
    "print(TestingPredictions[0])"
   ]
  },
  {
   "cell_type": "code",
   "execution_count": 21,
   "metadata": {},
   "outputs": [],
   "source": [
    "TestingDF[\"Pred\"] = TestingPredictions.tolist()"
   ]
  },
  {
   "cell_type": "code",
   "execution_count": 22,
   "metadata": {},
   "outputs": [
    {
     "data": {
      "text/html": [
       "<div>\n",
       "<style scoped>\n",
       "    .dataframe tbody tr th:only-of-type {\n",
       "        vertical-align: middle;\n",
       "    }\n",
       "\n",
       "    .dataframe tbody tr th {\n",
       "        vertical-align: top;\n",
       "    }\n",
       "\n",
       "    .dataframe thead th {\n",
       "        text-align: right;\n",
       "    }\n",
       "</style>\n",
       "<table border=\"1\" class=\"dataframe\">\n",
       "  <thead>\n",
       "    <tr style=\"text-align: right;\">\n",
       "      <th></th>\n",
       "      <th>M4</th>\n",
       "      <th>R1</th>\n",
       "      <th>R2</th>\n",
       "      <th>R3</th>\n",
       "      <th>Truth</th>\n",
       "      <th>Mass</th>\n",
       "      <th>Pred</th>\n",
       "    </tr>\n",
       "  </thead>\n",
       "  <tbody>\n",
       "    <tr>\n",
       "      <th>0</th>\n",
       "      <td>1.146924</td>\n",
       "      <td>0.753263</td>\n",
       "      <td>0.383014</td>\n",
       "      <td>0.289630</td>\n",
       "      <td>1</td>\n",
       "      <td>500</td>\n",
       "      <td>1</td>\n",
       "    </tr>\n",
       "    <tr>\n",
       "      <th>1</th>\n",
       "      <td>1.270563</td>\n",
       "      <td>0.592479</td>\n",
       "      <td>0.457237</td>\n",
       "      <td>0.444398</td>\n",
       "      <td>2</td>\n",
       "      <td>500</td>\n",
       "      <td>2</td>\n",
       "    </tr>\n",
       "    <tr>\n",
       "      <th>2</th>\n",
       "      <td>1.475435</td>\n",
       "      <td>0.547174</td>\n",
       "      <td>0.491401</td>\n",
       "      <td>0.419803</td>\n",
       "      <td>2</td>\n",
       "      <td>500</td>\n",
       "      <td>2</td>\n",
       "    </tr>\n",
       "    <tr>\n",
       "      <th>3</th>\n",
       "      <td>1.161358</td>\n",
       "      <td>0.610406</td>\n",
       "      <td>0.422835</td>\n",
       "      <td>0.371498</td>\n",
       "      <td>1</td>\n",
       "      <td>500</td>\n",
       "      <td>1</td>\n",
       "    </tr>\n",
       "    <tr>\n",
       "      <th>4</th>\n",
       "      <td>1.439718</td>\n",
       "      <td>0.678990</td>\n",
       "      <td>0.456938</td>\n",
       "      <td>0.339597</td>\n",
       "      <td>2</td>\n",
       "      <td>500</td>\n",
       "      <td>1</td>\n",
       "    </tr>\n",
       "    <tr>\n",
       "      <th>...</th>\n",
       "      <td>...</td>\n",
       "      <td>...</td>\n",
       "      <td>...</td>\n",
       "      <td>...</td>\n",
       "      <td>...</td>\n",
       "      <td>...</td>\n",
       "      <td>...</td>\n",
       "    </tr>\n",
       "    <tr>\n",
       "      <th>49995</th>\n",
       "      <td>2.031144</td>\n",
       "      <td>0.562254</td>\n",
       "      <td>0.534370</td>\n",
       "      <td>0.468888</td>\n",
       "      <td>2</td>\n",
       "      <td>1000</td>\n",
       "      <td>2</td>\n",
       "    </tr>\n",
       "    <tr>\n",
       "      <th>49996</th>\n",
       "      <td>1.166589</td>\n",
       "      <td>0.591774</td>\n",
       "      <td>0.576928</td>\n",
       "      <td>0.485911</td>\n",
       "      <td>0</td>\n",
       "      <td>1000</td>\n",
       "      <td>2</td>\n",
       "    </tr>\n",
       "    <tr>\n",
       "      <th>49997</th>\n",
       "      <td>2.218874</td>\n",
       "      <td>0.525513</td>\n",
       "      <td>0.446088</td>\n",
       "      <td>0.309142</td>\n",
       "      <td>1</td>\n",
       "      <td>1000</td>\n",
       "      <td>2</td>\n",
       "    </tr>\n",
       "    <tr>\n",
       "      <th>49998</th>\n",
       "      <td>2.551666</td>\n",
       "      <td>0.608357</td>\n",
       "      <td>0.405521</td>\n",
       "      <td>0.399058</td>\n",
       "      <td>2</td>\n",
       "      <td>1000</td>\n",
       "      <td>2</td>\n",
       "    </tr>\n",
       "    <tr>\n",
       "      <th>49999</th>\n",
       "      <td>2.015078</td>\n",
       "      <td>0.613639</td>\n",
       "      <td>0.496935</td>\n",
       "      <td>0.240186</td>\n",
       "      <td>1</td>\n",
       "      <td>1000</td>\n",
       "      <td>1</td>\n",
       "    </tr>\n",
       "  </tbody>\n",
       "</table>\n",
       "<p>300000 rows × 7 columns</p>\n",
       "</div>"
      ],
      "text/plain": [
       "             M4        R1        R2        R3  Truth  Mass  Pred\n",
       "0      1.146924  0.753263  0.383014  0.289630      1   500     1\n",
       "1      1.270563  0.592479  0.457237  0.444398      2   500     2\n",
       "2      1.475435  0.547174  0.491401  0.419803      2   500     2\n",
       "3      1.161358  0.610406  0.422835  0.371498      1   500     1\n",
       "4      1.439718  0.678990  0.456938  0.339597      2   500     1\n",
       "...         ...       ...       ...       ...    ...   ...   ...\n",
       "49995  2.031144  0.562254  0.534370  0.468888      2  1000     2\n",
       "49996  1.166589  0.591774  0.576928  0.485911      0  1000     2\n",
       "49997  2.218874  0.525513  0.446088  0.309142      1  1000     2\n",
       "49998  2.551666  0.608357  0.405521  0.399058      2  1000     2\n",
       "49999  2.015078  0.613639  0.496935  0.240186      1  1000     1\n",
       "\n",
       "[300000 rows x 7 columns]"
      ]
     },
     "execution_count": 22,
     "metadata": {},
     "output_type": "execute_result"
    }
   ],
   "source": [
    "TestingDF"
   ]
  },
  {
   "cell_type": "code",
   "execution_count": 23,
   "metadata": {},
   "outputs": [],
   "source": [
    "AccPred = []\n",
    "Acc0 = []\n",
    "Acc1 = []\n",
    "Acc2 = []\n",
    "for Mass in Masses:\n",
    "    TestingDF_temp = TestingDF.loc[TestingDF[\"Mass\"] == Mass]\n",
    "    TestingDF_pred = TestingDF_temp.loc[TestingDF_temp[\"Pred\"]==TestingDF_temp[\"Truth\"]]\n",
    "    TestingDF_0 = TestingDF_temp.loc[0==TestingDF_temp[\"Truth\"]]\n",
    "    TestingDF_1 = TestingDF_temp.loc[1==TestingDF_temp[\"Truth\"]]\n",
    "    TestingDF_2 = TestingDF_temp.loc[2==TestingDF_temp[\"Truth\"]]\n",
    "\n",
    "    AccPred.append(float(len(TestingDF_pred.index))/len(TestingDF_temp.index))\n",
    "    Acc0.append(float(len(TestingDF_0.index))/len(TestingDF_temp.index))\n",
    "    Acc1.append(float(len(TestingDF_1.index))/len(TestingDF_temp.index))\n",
    "    Acc2.append(float(len(TestingDF_2.index))/len(TestingDF_temp.index))"
   ]
  },
  {
   "cell_type": "code",
   "execution_count": 24,
   "metadata": {},
   "outputs": [
    {
     "name": "stdout",
     "output_type": "stream",
     "text": [
      "[0.5821, 0.70032, 0.73176, 0.69756, 0.56776, 0.4458] Average 0.62\n",
      "[0.02722, 0.10198, 0.1671, 0.19664, 0.21688, 0.22934] Average 0.16\n",
      "[0.1966, 0.32604, 0.35396, 0.37766, 0.38838, 0.39698] Average 0.34\n",
      "[0.77618, 0.57198, 0.47894, 0.4257, 0.39474, 0.37368] Average 0.50\n"
     ]
    }
   ],
   "source": [
    "print(AccPred, \"Average %.2f\" % float(sum(AccPred)/len(AccPred)))\n",
    "print(Acc0, \"Average %.2f\" % float(sum(Acc0)/len(Acc0)))\n",
    "print(Acc1, \"Average %.2f\" % float(sum(Acc1)/len(Acc1)))\n",
    "print(Acc2, \"Average %.2f\" % float(sum(Acc2)/len(Acc2)))"
   ]
  },
  {
   "cell_type": "code",
   "execution_count": 25,
   "metadata": {},
   "outputs": [
    {
     "data": {
      "image/png": "[encoded data removed]",
      "text/plain": [
       "<Figure size 640x480 with 1 Axes>"
      ]
     },
     "metadata": {},
     "output_type": "display_data"
    }
   ],
   "source": [
    "plt.plot(Masses, AccPred, 'r', label = \"ML prediction\")\n",
    "plt.plot(Masses, Acc0, 'g', label = \"Always pair 0\")\n",
    "plt.plot(Masses, Acc1, 'b', label = \"Always pair 1\")\n",
    "plt.plot(Masses, Acc2, 'y', label = \"Always pair 2\")\n",
    "plt.legend(loc='upper right')\n",
    "plt.xlabel(\"truth mass [GeV]\")\n",
    "plt.ylabel(\"Accuracy\")\n",
    "plt.savefig(\"plots/\" + Model.name + \"_Acc_vs_mass.png\")"
   ]
  },
  {
   "cell_type": "code",
   "execution_count": null,
   "metadata": {},
   "outputs": [],
   "source": []
  }
 ],
 "metadata": {
  "kernelspec": {
   "display_name": "Python 3 (ipykernel)",
   "language": "python",
   "name": "python3"
  },
  "language_info": {
   "codemirror_mode": {
    "name": "ipython",
    "version": 3
   },
   "file_extension": ".py",
   "mimetype": "text/x-python",
   "name": "python",
   "nbconvert_exporter": "python",
   "pygments_lexer": "ipython3",
   "version": "3.8.10"
  }
 },
 "nbformat": 4,
 "nbformat_minor": 2
}
